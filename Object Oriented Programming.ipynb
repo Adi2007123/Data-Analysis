{
 "cells": [
  {
   "cell_type": "markdown",
   "id": "6d5a47ca",
   "metadata": {},
   "source": [
    "# Object Oriented Programming"
   ]
  },
  {
   "cell_type": "code",
   "execution_count": 1,
   "id": "00df10b9",
   "metadata": {},
   "outputs": [],
   "source": [
    "class Phone:\n",
    "\n",
    "    def make_call(self):\n",
    "        print(\"I am making phone call\")\n",
    "        \n",
    "    def play_game(self):\n",
    "        print(\"I am playing Game\")\n",
    "    "
   ]
  },
  {
   "cell_type": "code",
   "execution_count": 2,
   "id": "86bb47f0",
   "metadata": {},
   "outputs": [],
   "source": [
    "p1 = Phone()"
   ]
  },
  {
   "cell_type": "code",
   "execution_count": 3,
   "id": "db61cc27",
   "metadata": {
    "scrolled": false
   },
   "outputs": [
    {
     "name": "stdout",
     "output_type": "stream",
     "text": [
      "I am making phone call\n"
     ]
    }
   ],
   "source": [
    "p1.make_call()"
   ]
  },
  {
   "cell_type": "code",
   "execution_count": 4,
   "id": "aa459e5a",
   "metadata": {},
   "outputs": [
    {
     "name": "stdout",
     "output_type": "stream",
     "text": [
      "I am playing Game\n"
     ]
    }
   ],
   "source": [
    "p1.play_game()"
   ]
  },
  {
   "cell_type": "code",
   "execution_count": 5,
   "id": "7ea3cdc4",
   "metadata": {
    "scrolled": true
   },
   "outputs": [
    {
     "name": "stdout",
     "output_type": "stream",
     "text": [
      "None\n"
     ]
    }
   ],
   "source": [
    "print(p1.make_call.__doc__)"
   ]
  },
  {
   "cell_type": "code",
   "execution_count": 6,
   "id": "5a091c0e",
   "metadata": {},
   "outputs": [],
   "source": [
    "class Phone:\n",
    "    def set_color(self,color):\n",
    "        self.color = color\n",
    "    def set_cost(self,cost):\n",
    "        self.cost = cost\n",
    "    def show_color(self):\n",
    "        return self.color\n",
    "    def show_cost(self):\n",
    "        return self.cost\n",
    "    def make_call(self):\n",
    "        print(\"I am making phone call\")\n",
    "    def play_game(self):\n",
    "        print(\"I am playing Game\")\n",
    "    "
   ]
  },
  {
   "cell_type": "code",
   "execution_count": 7,
   "id": "fcc52990",
   "metadata": {},
   "outputs": [],
   "source": [
    "p2 = Phone()"
   ]
  },
  {
   "cell_type": "code",
   "execution_count": 8,
   "id": "bee3920a",
   "metadata": {},
   "outputs": [],
   "source": [
    "p2.set_color(\"Blue\")"
   ]
  },
  {
   "cell_type": "code",
   "execution_count": 9,
   "id": "9d9291f6",
   "metadata": {},
   "outputs": [],
   "source": [
    "p2.set_cost(5000)"
   ]
  },
  {
   "cell_type": "code",
   "execution_count": 10,
   "id": "860a8176",
   "metadata": {},
   "outputs": [
    {
     "data": {
      "text/plain": [
       "'Blue'"
      ]
     },
     "execution_count": 10,
     "metadata": {},
     "output_type": "execute_result"
    }
   ],
   "source": [
    "p2.show_color()"
   ]
  },
  {
   "cell_type": "code",
   "execution_count": 11,
   "id": "f6b651c4",
   "metadata": {},
   "outputs": [
    {
     "data": {
      "text/plain": [
       "5000"
      ]
     },
     "execution_count": 11,
     "metadata": {},
     "output_type": "execute_result"
    }
   ],
   "source": [
    "p2.show_cost()"
   ]
  },
  {
   "cell_type": "code",
   "execution_count": 12,
   "id": "78a4a440",
   "metadata": {},
   "outputs": [
    {
     "name": "stdout",
     "output_type": "stream",
     "text": [
      "I am making phone call\n"
     ]
    }
   ],
   "source": [
    "p2.make_call()"
   ]
  },
  {
   "cell_type": "code",
   "execution_count": 13,
   "id": "e7218d6b",
   "metadata": {},
   "outputs": [
    {
     "name": "stdout",
     "output_type": "stream",
     "text": [
      "I am playing Game\n"
     ]
    }
   ],
   "source": [
    "p2.play_game()"
   ]
  },
  {
   "cell_type": "code",
   "execution_count": 14,
   "id": "e581c6f0",
   "metadata": {},
   "outputs": [],
   "source": [
    "class Employee:\n",
    "    def __init__(self,name,age,salary,gender):\n",
    "        self.name = name\n",
    "        self.age = age\n",
    "        self.salary = salary\n",
    "        self.gender = gender\n",
    "    \n",
    "    def employee_details(self):\n",
    "        print(\"Name of the employee\",self.name)\n",
    "        print(\"Age of the employee\",self.age)\n",
    "        print(\"Salary of the employee\",self.salary)\n",
    "        print(\"Gender of the employee\",self.gender)\n"
   ]
  },
  {
   "cell_type": "code",
   "execution_count": 15,
   "id": "019ccbed",
   "metadata": {},
   "outputs": [],
   "source": [
    "p3 = Employee(\"Aditya\",14,\"100000 Trillians\",\"Male\")"
   ]
  },
  {
   "cell_type": "code",
   "execution_count": 16,
   "id": "b6819b14",
   "metadata": {},
   "outputs": [
    {
     "name": "stdout",
     "output_type": "stream",
     "text": [
      "Name of the employee Aditya\n",
      "Age of the employee 14\n",
      "Salary of the employee 100000 Trillians\n",
      "Gender of the employee Male\n"
     ]
    }
   ],
   "source": [
    "p3.employee_details()"
   ]
  },
  {
   "cell_type": "code",
   "execution_count": 17,
   "id": "2f514ef7",
   "metadata": {},
   "outputs": [],
   "source": [
    "class Employee:\n",
    "    def __init__(self,name,age,salary,gender):\n",
    "        self.name = name \n",
    "        self.age = age\n",
    "        self.salary = salary \n",
    "        self.gender = gender\n",
    "    \n",
    "    def employee_details(self):\n",
    "        print(\"Name of the employee\",self.name)\n",
    "        print(\"Age of the employee\",self.age)\n",
    "        print(\"Salary of the employee\",self.salary)\n",
    "        print(\"Gender of the employee\",self.gender)\n"
   ]
  },
  {
   "cell_type": "code",
   "execution_count": 18,
   "id": "9cf56e0b",
   "metadata": {},
   "outputs": [
    {
     "name": "stdout",
     "output_type": "stream",
     "text": [
      "Enter Name of the employee\n",
      "Aditya\n",
      "Enter Age of the employee\n",
      "14\n",
      "Enter Salary of the employee\n",
      "100000 Trillians\n",
      "Enter Gender of the employee\n",
      "Male\n"
     ]
    }
   ],
   "source": [
    "name = input(\"Enter Name of the employee\\n\")\n",
    "age = input(\"Enter Age of the employee\\n\")\n",
    "salary = input(\"Enter Salary of the employee\\n\")\n",
    "gender = input(\"Enter Gender of the employee\\n\")\n",
    "p4 = Employee(name,age,salary,gender)"
   ]
  },
  {
   "cell_type": "code",
   "execution_count": 19,
   "id": "c45215e9",
   "metadata": {},
   "outputs": [
    {
     "name": "stdout",
     "output_type": "stream",
     "text": [
      "Name of the employee Aditya\n",
      "Age of the employee 14\n",
      "Salary of the employee 100000 Trillians\n",
      "Gender of the employee Male\n"
     ]
    }
   ],
   "source": [
    "p4.employee_details()"
   ]
  },
  {
   "cell_type": "code",
   "execution_count": 20,
   "id": "b0b09e64",
   "metadata": {},
   "outputs": [],
   "source": [
    "# This is base Class\n",
    "# Base Class: A base class is a class in Object-Oriented Programming language, from which other classes are derived.\n",
    "# The Base class members and member functions are inherited to Object of the derived class.\n",
    "# A base class is also called parent class or superclass\n",
    "class Vehicle:\n",
    "    def __init__(self,mileage,cost):\n",
    "        self.mileage = mileage \n",
    "        self.cost = cost\n",
    "    def show_vehicle_details(self):\n",
    "        print(\"I am a Vehicle\")\n",
    "        print(\"Mileage of Vehicle is\",self.mileage)\n",
    "        print(\"Cost of Vehicle is\",self.cost)"
   ]
  },
  {
   "cell_type": "code",
   "execution_count": 21,
   "id": "6934e86a",
   "metadata": {},
   "outputs": [],
   "source": [
    "v1 = Vehicle(500,100000)"
   ]
  },
  {
   "cell_type": "code",
   "execution_count": 22,
   "id": "520b058f",
   "metadata": {},
   "outputs": [
    {
     "name": "stdout",
     "output_type": "stream",
     "text": [
      "I am a Vehicle\n",
      "Mileage of Vehicle is 500\n",
      "Cost of Vehicle is 100000\n"
     ]
    }
   ],
   "source": [
    "v1.show_vehicle_details()"
   ]
  },
  {
   "cell_type": "code",
   "execution_count": 23,
   "id": "212d6355",
   "metadata": {},
   "outputs": [],
   "source": [
    "class Car(Vehicle):\n",
    "    def show_car_details(self):\n",
    "        print(\"I am a car\")"
   ]
  },
  {
   "cell_type": "code",
   "execution_count": 24,
   "id": "d35bcc52",
   "metadata": {},
   "outputs": [],
   "source": [
    "c1 = Car(500,24146415)"
   ]
  },
  {
   "cell_type": "code",
   "execution_count": 25,
   "id": "e036db9e",
   "metadata": {},
   "outputs": [
    {
     "name": "stdout",
     "output_type": "stream",
     "text": [
      "I am a car\n"
     ]
    }
   ],
   "source": [
    "c1.show_car_details()"
   ]
  },
  {
   "cell_type": "code",
   "execution_count": 26,
   "id": "86889e89",
   "metadata": {},
   "outputs": [
    {
     "name": "stdout",
     "output_type": "stream",
     "text": [
      "I am a Vehicle\n",
      "Mileage of Vehicle is 500\n",
      "Cost of Vehicle is 24146415\n"
     ]
    }
   ],
   "source": [
    "c1.show_vehicle_details()"
   ]
  },
  {
   "cell_type": "markdown",
   "id": "da70e975",
   "metadata": {},
   "source": [
    "## Over-riding init Method"
   ]
  },
  {
   "cell_type": "code",
   "execution_count": 66,
   "id": "a5f35699",
   "metadata": {},
   "outputs": [],
   "source": [
    "class Car(Vehicle):\n",
    "    def __init__(self,mileage,cost,tyres,hp):\n",
    "        super().__init__(mileage,cost)\n",
    "        self.tyres = tyres\n",
    "        self.hp = hp\n",
    "    def show_car_details(self):\n",
    "        print(\"I am a car\")\n",
    "        print(\"Number of types in car:\",self.tyres)\n",
    "        print(\"Horse Power of car is\",self.hp)"
   ]
  },
  {
   "cell_type": "code",
   "execution_count": 67,
   "id": "82496995",
   "metadata": {},
   "outputs": [],
   "source": [
    "c2 = Car(500,10000000,4,850)"
   ]
  },
  {
   "cell_type": "code",
   "execution_count": 72,
   "id": "4beb1328",
   "metadata": {},
   "outputs": [
    {
     "name": "stdout",
     "output_type": "stream",
     "text": [
      "I am a car\n",
      "Number of types in car: 4\n",
      "Horse Power of car is 850\n"
     ]
    }
   ],
   "source": [
    "c2.show_car_details()"
   ]
  },
  {
   "cell_type": "code",
   "execution_count": 73,
   "id": "7021e19c",
   "metadata": {},
   "outputs": [
    {
     "name": "stdout",
     "output_type": "stream",
     "text": [
      "I am a Vehicle\n",
      "Mileage of Vehicle is 500\n",
      "Cost of Vehicle is 10000000\n"
     ]
    }
   ],
   "source": [
    "c2.show_vehicle_details()"
   ]
  },
  {
   "cell_type": "code",
   "execution_count": 74,
   "id": "8e7fe5b4",
   "metadata": {},
   "outputs": [
    {
     "data": {
      "text/plain": [
       "500"
      ]
     },
     "execution_count": 74,
     "metadata": {},
     "output_type": "execute_result"
    }
   ],
   "source": [
    "c2.mileage"
   ]
  },
  {
   "cell_type": "code",
   "execution_count": 75,
   "id": "c5784cc6",
   "metadata": {},
   "outputs": [],
   "source": [
    "class Car(Vehicle):\n",
    "    def __init__(self,mileage,cost,tyres,hp):\n",
    "        super().__init__(mileage,cost,)\n",
    "        self.tyres = tyres\n",
    "        self.hp = hp\n",
    "    def show_car_details(self):\n",
    "        print(\"I am a car\")\n",
    "        print(\"Mileage of Vehicle is\",self.mileage)\n",
    "        print(\"Cost of Vehicle is\",self.cost)\n",
    "        print(\"Number of types in car:\",self.tyres)\n",
    "        print(\"Horse Power of car is\",self.hp)"
   ]
  },
  {
   "cell_type": "code",
   "execution_count": 76,
   "id": "9885b5c5",
   "metadata": {},
   "outputs": [],
   "source": [
    "c3 = Car(500,7855151,4,7777)"
   ]
  },
  {
   "cell_type": "code",
   "execution_count": 77,
   "id": "f852c825",
   "metadata": {},
   "outputs": [
    {
     "data": {
      "text/plain": [
       "7777"
      ]
     },
     "execution_count": 77,
     "metadata": {},
     "output_type": "execute_result"
    }
   ],
   "source": [
    "c3.hp"
   ]
  },
  {
   "cell_type": "code",
   "execution_count": 79,
   "id": "6cf55f7d",
   "metadata": {},
   "outputs": [
    {
     "name": "stdout",
     "output_type": "stream",
     "text": [
      "I am a car\n",
      "Mileage of Vehicle is 500\n",
      "Cost of Vehicle is 7855151\n",
      "Number of types in car: 4\n",
      "Horse Power of car is 7777\n"
     ]
    }
   ],
   "source": [
    "c3.show_car_details()"
   ]
  },
  {
   "cell_type": "markdown",
   "id": "3e99a5d9",
   "metadata": {},
   "source": [
    "## Types of Inheritence "
   ]
  },
  {
   "cell_type": "code",
   "execution_count": 36,
   "id": "6ae897d2",
   "metadata": {},
   "outputs": [],
   "source": [
    "# (1) Single Inheritence\n",
    "# (2) Multiple Inheritence\n",
    "# (3) Multi-level Inheritence\n",
    "# (4) Hybrid Inheritence"
   ]
  },
  {
   "cell_type": "markdown",
   "id": "3b14dcbe",
   "metadata": {},
   "source": [
    "### Multiple Inheritence"
   ]
  },
  {
   "cell_type": "code",
   "execution_count": 37,
   "id": "7dbcbaad",
   "metadata": {},
   "outputs": [],
   "source": [
    "# In multiple inheritence, the child inherits from more than 1 parent class"
   ]
  },
  {
   "cell_type": "code",
   "execution_count": 38,
   "id": "4d4fa40d",
   "metadata": {},
   "outputs": [],
   "source": [
    "class parent1:\n",
    "    def assign_string_one(self,str1):\n",
    "        self.str1 = str1\n",
    "        \n",
    "    def show_string_one(self):\n",
    "        return self.str1"
   ]
  },
  {
   "cell_type": "code",
   "execution_count": 39,
   "id": "be29b951",
   "metadata": {},
   "outputs": [],
   "source": [
    "class parent2:\n",
    "    def assign_string_Two(self,str2):\n",
    "        self.str2 = str2\n",
    "        \n",
    "    def show_string_Two(self):\n",
    "        return self.str2"
   ]
  },
  {
   "cell_type": "code",
   "execution_count": 40,
   "id": "a0fbdcaa",
   "metadata": {},
   "outputs": [],
   "source": [
    "class child(parent1,parent2):\n",
    "    def assign_string_Three(self,str3):\n",
    "        self.str3 = str3\n",
    "    def show_string_Three(self):\n",
    "        return self.str3\n",
    "    \n",
    "        "
   ]
  },
  {
   "cell_type": "code",
   "execution_count": 41,
   "id": "bb9ab78b",
   "metadata": {},
   "outputs": [],
   "source": [
    "d1 = child()"
   ]
  },
  {
   "cell_type": "code",
   "execution_count": 42,
   "id": "6ae3c192",
   "metadata": {},
   "outputs": [],
   "source": [
    "d1.assign_string_one(\"Hello\")\n",
    "d1.assign_string_Two(\"World\")\n",
    "d1.assign_string_Three(\"Nope\")"
   ]
  },
  {
   "cell_type": "code",
   "execution_count": 43,
   "id": "e39af3c7",
   "metadata": {},
   "outputs": [
    {
     "data": {
      "text/plain": [
       "'Hello'"
      ]
     },
     "execution_count": 43,
     "metadata": {},
     "output_type": "execute_result"
    }
   ],
   "source": [
    "d1.show_string_one()"
   ]
  },
  {
   "cell_type": "code",
   "execution_count": 44,
   "id": "2312c75b",
   "metadata": {},
   "outputs": [
    {
     "data": {
      "text/plain": [
       "'World'"
      ]
     },
     "execution_count": 44,
     "metadata": {},
     "output_type": "execute_result"
    }
   ],
   "source": [
    "d1.show_string_Two()"
   ]
  },
  {
   "cell_type": "code",
   "execution_count": 45,
   "id": "74715d49",
   "metadata": {},
   "outputs": [
    {
     "data": {
      "text/plain": [
       "'World'"
      ]
     },
     "execution_count": 45,
     "metadata": {},
     "output_type": "execute_result"
    }
   ],
   "source": [
    "d1.show_string_Two()"
   ]
  },
  {
   "cell_type": "code",
   "execution_count": 46,
   "id": "3db81793",
   "metadata": {},
   "outputs": [],
   "source": [
    "#Taking User Input"
   ]
  },
  {
   "cell_type": "code",
   "execution_count": 47,
   "id": "b1f3bf34",
   "metadata": {},
   "outputs": [
    {
     "name": "stdout",
     "output_type": "stream",
     "text": [
      "Enter Your line\n",
      "Hello\n",
      "Enter Your line\n",
      "World\n",
      "Enter Your line\n",
      "Yup\n"
     ]
    }
   ],
   "source": [
    "x = input(\"Enter Your line\\n\")\n",
    "y = input(\"Enter Your line\\n\")\n",
    "z = input(\"Enter Your line\\n\")\n",
    "d1.assign_string_one(x)\n",
    "d1.assign_string_Two(y)\n",
    "d1.assign_string_Three(z)"
   ]
  },
  {
   "cell_type": "code",
   "execution_count": 48,
   "id": "a9cb8344",
   "metadata": {},
   "outputs": [
    {
     "data": {
      "text/plain": [
       "'Hello'"
      ]
     },
     "execution_count": 48,
     "metadata": {},
     "output_type": "execute_result"
    }
   ],
   "source": [
    "d1.show_string_one()"
   ]
  },
  {
   "cell_type": "code",
   "execution_count": 49,
   "id": "b8b4f123",
   "metadata": {},
   "outputs": [
    {
     "data": {
      "text/plain": [
       "'World'"
      ]
     },
     "execution_count": 49,
     "metadata": {},
     "output_type": "execute_result"
    }
   ],
   "source": [
    "d1.show_string_Two()"
   ]
  },
  {
   "cell_type": "code",
   "execution_count": 50,
   "id": "72992093",
   "metadata": {},
   "outputs": [
    {
     "data": {
      "text/plain": [
       "'Yup'"
      ]
     },
     "execution_count": 50,
     "metadata": {},
     "output_type": "execute_result"
    }
   ],
   "source": [
    "d1.show_string_Three()"
   ]
  },
  {
   "cell_type": "code",
   "execution_count": 51,
   "id": "53507b7a",
   "metadata": {},
   "outputs": [],
   "source": [
    "class parent1:\n",
    "    def assign_string_one(self,str1):\n",
    "        self.str1 = str1\n",
    "    def show_string_one(self):\n",
    "        return self.str1"
   ]
  },
  {
   "cell_type": "code",
   "execution_count": 52,
   "id": "da6944a7",
   "metadata": {},
   "outputs": [],
   "source": [
    "a = parent1()"
   ]
  },
  {
   "cell_type": "code",
   "execution_count": 53,
   "id": "c30b5551",
   "metadata": {},
   "outputs": [],
   "source": [
    "a.assign_string_one(\"hello\")"
   ]
  },
  {
   "cell_type": "code",
   "execution_count": 54,
   "id": "02441c5c",
   "metadata": {},
   "outputs": [
    {
     "data": {
      "text/plain": [
       "'hello'"
      ]
     },
     "execution_count": 54,
     "metadata": {},
     "output_type": "execute_result"
    }
   ],
   "source": [
    "a.show_string_one()"
   ]
  },
  {
   "cell_type": "markdown",
   "id": "6ad96d65",
   "metadata": {},
   "source": [
    "### Multi-level Inheritence"
   ]
  },
  {
   "cell_type": "code",
   "execution_count": 55,
   "id": "6b0010f5",
   "metadata": {},
   "outputs": [],
   "source": [
    "# In Multi-level Inheritence, we habe Parent,child and Grand-child relationship"
   ]
  },
  {
   "cell_type": "code",
   "execution_count": 56,
   "id": "766a4478",
   "metadata": {},
   "outputs": [],
   "source": [
    "class Parent:\n",
    "    def get_name(self,name):\n",
    "        self.name = name\n",
    "    def show_name(self):\n",
    "        return self.name"
   ]
  },
  {
   "cell_type": "code",
   "execution_count": 57,
   "id": "b6f26736",
   "metadata": {},
   "outputs": [],
   "source": [
    "class Child(Parent):\n",
    "    def get_age(self,age):\n",
    "        self.age = age\n",
    "    def show_age(self):\n",
    "        return self.age"
   ]
  },
  {
   "cell_type": "code",
   "execution_count": 58,
   "id": "48627fce",
   "metadata": {},
   "outputs": [],
   "source": [
    "class Grand_Child(Child):\n",
    "    def get_Gender(self,gender):\n",
    "        self.gender = gender\n",
    "    def show_Gender(self):\n",
    "        return self.gender"
   ]
  },
  {
   "cell_type": "code",
   "execution_count": 59,
   "id": "cb8f3d75",
   "metadata": {},
   "outputs": [],
   "source": [
    "GC = Grand_Child()"
   ]
  },
  {
   "cell_type": "code",
   "execution_count": 60,
   "id": "982c8522",
   "metadata": {},
   "outputs": [],
   "source": [
    "GC.get_name(\"Aditya\")"
   ]
  },
  {
   "cell_type": "code",
   "execution_count": 61,
   "id": "847e34cd",
   "metadata": {},
   "outputs": [],
   "source": [
    "GC.get_age(\"14\")"
   ]
  },
  {
   "cell_type": "code",
   "execution_count": 62,
   "id": "1d467d31",
   "metadata": {},
   "outputs": [],
   "source": [
    "GC.get_Gender(\"Male\")"
   ]
  },
  {
   "cell_type": "code",
   "execution_count": 63,
   "id": "72df6710",
   "metadata": {},
   "outputs": [
    {
     "data": {
      "text/plain": [
       "'Aditya'"
      ]
     },
     "execution_count": 63,
     "metadata": {},
     "output_type": "execute_result"
    }
   ],
   "source": [
    "GC.show_name()"
   ]
  },
  {
   "cell_type": "code",
   "execution_count": 64,
   "id": "4d1d7177",
   "metadata": {},
   "outputs": [
    {
     "data": {
      "text/plain": [
       "'14'"
      ]
     },
     "execution_count": 64,
     "metadata": {},
     "output_type": "execute_result"
    }
   ],
   "source": [
    "GC.show_age()"
   ]
  },
  {
   "cell_type": "code",
   "execution_count": 65,
   "id": "5f9761ff",
   "metadata": {},
   "outputs": [
    {
     "data": {
      "text/plain": [
       "'Male'"
      ]
     },
     "execution_count": 65,
     "metadata": {},
     "output_type": "execute_result"
    }
   ],
   "source": [
    "GC.show_Gender()"
   ]
  },
  {
   "cell_type": "code",
   "execution_count": null,
   "id": "6492a646",
   "metadata": {},
   "outputs": [],
   "source": []
  },
  {
   "cell_type": "code",
   "execution_count": null,
   "id": "a3b8fbc3",
   "metadata": {},
   "outputs": [],
   "source": []
  }
 ],
 "metadata": {
  "kernelspec": {
   "display_name": "Python 3 (ipykernel)",
   "language": "python",
   "name": "python3"
  },
  "language_info": {
   "codemirror_mode": {
    "name": "ipython",
    "version": 3
   },
   "file_extension": ".py",
   "mimetype": "text/x-python",
   "name": "python",
   "nbconvert_exporter": "python",
   "pygments_lexer": "ipython3",
   "version": "3.9.7"
  }
 },
 "nbformat": 4,
 "nbformat_minor": 5
}
