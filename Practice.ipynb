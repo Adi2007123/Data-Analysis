{
 "cells": [
  {
   "cell_type": "markdown",
   "id": "d81741fa",
   "metadata": {},
   "source": [
    "# Practice"
   ]
  },
  {
   "cell_type": "code",
   "execution_count": 1,
   "id": "e3a51518",
   "metadata": {},
   "outputs": [],
   "source": [
    "import numpy as np\n",
    "import pandas as pd\n",
    "from matplotlib import pyplot as plt"
   ]
  },
  {
   "cell_type": "code",
   "execution_count": 2,
   "id": "11d087b1",
   "metadata": {},
   "outputs": [],
   "source": [
    "myarr = np.array([3,6,32,7], np.int8)"
   ]
  },
  {
   "cell_type": "code",
   "execution_count": 3,
   "id": "ef4f7b02",
   "metadata": {},
   "outputs": [
    {
     "data": {
      "text/plain": [
       "array([ 3,  6, 32,  7], dtype=int8)"
      ]
     },
     "execution_count": 3,
     "metadata": {},
     "output_type": "execute_result"
    }
   ],
   "source": [
    "myarr"
   ]
  },
  {
   "cell_type": "code",
   "execution_count": 4,
   "id": "3a06d5ef",
   "metadata": {},
   "outputs": [],
   "source": [
    "myarr = np.array([3,6,3222,7], np.int8) #Memory management is important"
   ]
  },
  {
   "cell_type": "code",
   "execution_count": 5,
   "id": "7739b6d0",
   "metadata": {},
   "outputs": [
    {
     "data": {
      "text/plain": [
       "array([   3,    6, -106,    7], dtype=int8)"
      ]
     },
     "execution_count": 5,
     "metadata": {},
     "output_type": "execute_result"
    }
   ],
   "source": [
    "myarr"
   ]
  },
  {
   "cell_type": "code",
   "execution_count": 6,
   "id": "f95f341f",
   "metadata": {},
   "outputs": [],
   "source": [
    "myarr = np.array([[3,6,32,7]], dtype = np.int64)"
   ]
  },
  {
   "cell_type": "code",
   "execution_count": 7,
   "id": "b93e436a",
   "metadata": {},
   "outputs": [
    {
     "data": {
      "text/plain": [
       "array([[ 3,  6, 32,  7]], dtype=int64)"
      ]
     },
     "execution_count": 7,
     "metadata": {},
     "output_type": "execute_result"
    }
   ],
   "source": [
    "myarr"
   ]
  },
  {
   "cell_type": "code",
   "execution_count": 8,
   "id": "9f348a0f",
   "metadata": {},
   "outputs": [
    {
     "data": {
      "text/plain": [
       "6"
      ]
     },
     "execution_count": 8,
     "metadata": {},
     "output_type": "execute_result"
    }
   ],
   "source": [
    "myarr[0,1]"
   ]
  },
  {
   "cell_type": "code",
   "execution_count": 9,
   "id": "628faa18",
   "metadata": {},
   "outputs": [
    {
     "data": {
      "text/plain": [
       "(1, 4)"
      ]
     },
     "execution_count": 9,
     "metadata": {},
     "output_type": "execute_result"
    }
   ],
   "source": [
    "myarr.shape"
   ]
  },
  {
   "cell_type": "code",
   "execution_count": 10,
   "id": "da4b9aea",
   "metadata": {},
   "outputs": [
    {
     "data": {
      "text/plain": [
       "dtype('int64')"
      ]
     },
     "execution_count": 10,
     "metadata": {},
     "output_type": "execute_result"
    }
   ],
   "source": [
    "myarr.dtype"
   ]
  },
  {
   "cell_type": "code",
   "execution_count": 11,
   "id": "e451faec",
   "metadata": {},
   "outputs": [],
   "source": [
    "myarr[0,1] = 45 #Changing Element of array"
   ]
  },
  {
   "cell_type": "code",
   "execution_count": 12,
   "id": "7a3e2748",
   "metadata": {},
   "outputs": [
    {
     "data": {
      "text/plain": [
       "array([[ 3, 45, 32,  7]], dtype=int64)"
      ]
     },
     "execution_count": 12,
     "metadata": {},
     "output_type": "execute_result"
    }
   ],
   "source": [
    "myarr"
   ]
  },
  {
   "cell_type": "code",
   "execution_count": 13,
   "id": "3dcef7a1",
   "metadata": {},
   "outputs": [],
   "source": [
    "tup1 = (1,2,3)"
   ]
  },
  {
   "cell_type": "code",
   "execution_count": 14,
   "id": "e2551ad9",
   "metadata": {},
   "outputs": [],
   "source": [
    "tup2 =(4,5,6)"
   ]
  },
  {
   "cell_type": "code",
   "execution_count": 15,
   "id": "0fb998cc",
   "metadata": {},
   "outputs": [
    {
     "data": {
      "text/plain": [
       "(1, 2, 3, 4, 5, 6)"
      ]
     },
     "execution_count": 15,
     "metadata": {},
     "output_type": "execute_result"
    }
   ],
   "source": [
    "tup1 + tup2"
   ]
  },
  {
   "cell_type": "code",
   "execution_count": 16,
   "id": "66f94870",
   "metadata": {},
   "outputs": [
    {
     "data": {
      "text/plain": [
       "21"
      ]
     },
     "execution_count": 16,
     "metadata": {},
     "output_type": "execute_result"
    }
   ],
   "source": [
    "sum(tup1+tup2)"
   ]
  },
  {
   "cell_type": "code",
   "execution_count": 17,
   "id": "a09ca825",
   "metadata": {},
   "outputs": [
    {
     "name": "stdout",
     "output_type": "stream",
     "text": [
      "7\n",
      "8\n",
      "9\n"
     ]
    }
   ],
   "source": [
    "for i in list(tup1):\n",
    "    a = i\n",
    "    for j in list(tup2):\n",
    "        b = j\n",
    "    print(a+b)"
   ]
  },
  {
   "cell_type": "code",
   "execution_count": 18,
   "id": "5403653c",
   "metadata": {},
   "outputs": [
    {
     "data": {
      "text/plain": [
       "{2, 4, 5, 6}"
      ]
     },
     "execution_count": 18,
     "metadata": {},
     "output_type": "execute_result"
    }
   ],
   "source": [
    "a = {4,5,6,2}\n",
    "a"
   ]
  },
  {
   "cell_type": "code",
   "execution_count": 19,
   "id": "0e238c88",
   "metadata": {},
   "outputs": [],
   "source": [
    "a.update([25,1,26,52.35,False,\"Hi\"])"
   ]
  },
  {
   "cell_type": "code",
   "execution_count": 20,
   "id": "809ea746",
   "metadata": {},
   "outputs": [
    {
     "data": {
      "text/plain": [
       "{1, 2, 25, 26, 4, 5, 52.35, 6, False, 'Hi'}"
      ]
     },
     "execution_count": 20,
     "metadata": {},
     "output_type": "execute_result"
    }
   ],
   "source": [
    "a"
   ]
  },
  {
   "cell_type": "code",
   "execution_count": 21,
   "id": "e6809138",
   "metadata": {},
   "outputs": [
    {
     "name": "stdout",
     "output_type": "stream",
     "text": [
      "Enter value25\n",
      "Enter value25\n"
     ]
    },
    {
     "data": {
      "text/plain": [
       "50"
      ]
     },
     "execution_count": 21,
     "metadata": {},
     "output_type": "execute_result"
    }
   ],
   "source": [
    "a = lambda x,y:x+y\n",
    "q = int(input(\"Enter value\"))\n",
    "z = int(input(\"Enter value\"))\n",
    "a(q,z)"
   ]
  },
  {
   "cell_type": "code",
   "execution_count": 22,
   "id": "e5293917",
   "metadata": {},
   "outputs": [],
   "source": [
    "# lambda with filter"
   ]
  },
  {
   "cell_type": "code",
   "execution_count": 23,
   "id": "22e875a2",
   "metadata": {},
   "outputs": [
    {
     "name": "stdout",
     "output_type": "stream",
     "text": [
      "[25, 5, 3, 9, 45, 9, 7, 9, 5, 25, 3, 63]\n"
     ]
    }
   ],
   "source": [
    "l1 = [24,25,2,6,4,84,6,5,6,3,9,45,9,7,9,5,654,6,46,25,3,63,42]\n",
    "\n",
    "final_list = list(filter(lambda x: (x%2!=0),l1))\n",
    "print(final_list)"
   ]
  },
  {
   "cell_type": "code",
   "execution_count": 24,
   "id": "607942ec",
   "metadata": {},
   "outputs": [],
   "source": [
    "# lambda with Map"
   ]
  },
  {
   "cell_type": "code",
   "execution_count": 25,
   "id": "fa83fd43",
   "metadata": {},
   "outputs": [],
   "source": [
    "l1 = [1,2,3,4,5,6,7,8,9]"
   ]
  },
  {
   "cell_type": "code",
   "execution_count": 26,
   "id": "6febab9e",
   "metadata": {},
   "outputs": [
    {
     "name": "stdout",
     "output_type": "stream",
     "text": [
      "[2, 4, 6, 8, 10, 12, 14, 16, 18]\n"
     ]
    }
   ],
   "source": [
    "final_list_new = list(map(lambda x: x*2,l1))\n",
    "print(final_list_new)"
   ]
  },
  {
   "cell_type": "code",
   "execution_count": 27,
   "id": "23e7c48a",
   "metadata": {},
   "outputs": [],
   "source": [
    "from functools import reduce"
   ]
  },
  {
   "cell_type": "code",
   "execution_count": 28,
   "id": "3debc675",
   "metadata": {},
   "outputs": [
    {
     "name": "stdout",
     "output_type": "stream",
     "text": [
      "45\n"
     ]
    }
   ],
   "source": [
    "final = reduce(lambda x,y: x+y,l1)\n",
    "print(final)"
   ]
  },
  {
   "cell_type": "code",
   "execution_count": 29,
   "id": "dc3b5d1e",
   "metadata": {},
   "outputs": [],
   "source": [
    "# This is base Class\n",
    "# Base Class: A base class is a class in Object-Oriented Programming language, from which other classes are derived.\n",
    "# The Base class members and member functions are inherited to Object of the derived class.\n",
    "# A base class is also called parent class or superclass\n",
    "class Vehicle:\n",
    "    def __init__(self,mileage,cost):\n",
    "        self.mileage = mileage \n",
    "        self.cost = cost\n",
    "    def show_vehicle_details(self):\n",
    "        print(\"I am a Vehicle\")\n",
    "        print(\"Mileage of Vehicle is\",self.mileage)\n",
    "        print(\"Cost of Vehicle is\",self.cost)"
   ]
  },
  {
   "cell_type": "code",
   "execution_count": 30,
   "id": "c1c2bce1",
   "metadata": {},
   "outputs": [],
   "source": [
    "v = Vehicle(500,10000000)"
   ]
  },
  {
   "cell_type": "code",
   "execution_count": 31,
   "id": "9ce6fbad",
   "metadata": {},
   "outputs": [],
   "source": [
    "class Car(Vehicle):\n",
    "    def __init__(self,mileage,cost,tyres,hp):\n",
    "        super().__init__(mileage,cost)\n",
    "        self.tyres = tyres\n",
    "        self.hp = hp\n",
    "    def show_car_details(self):\n",
    "        print(\"I am a car\")\n",
    "        print(\"Number of types in car:\",self.tyres)\n",
    "        print(\"Horse Power of car is\",self.hp)"
   ]
  },
  {
   "cell_type": "code",
   "execution_count": 32,
   "id": "5a244e81",
   "metadata": {},
   "outputs": [],
   "source": [
    "c = Car(4,5,1,25)"
   ]
  },
  {
   "cell_type": "code",
   "execution_count": 33,
   "id": "80de9f06",
   "metadata": {},
   "outputs": [
    {
     "name": "stdout",
     "output_type": "stream",
     "text": [
      "I am a Vehicle\n",
      "Mileage of Vehicle is 4\n",
      "Cost of Vehicle is 5\n"
     ]
    }
   ],
   "source": [
    "c.show_vehicle_details()"
   ]
  },
  {
   "cell_type": "code",
   "execution_count": 34,
   "id": "d5fdd6e6",
   "metadata": {},
   "outputs": [
    {
     "name": "stdout",
     "output_type": "stream",
     "text": [
      "I am a Vehicle\n",
      "Mileage of Vehicle is 500\n",
      "Cost of Vehicle is 10000000\n"
     ]
    }
   ],
   "source": [
    "v.show_vehicle_details()"
   ]
  },
  {
   "cell_type": "code",
   "execution_count": 35,
   "id": "dfd40c9a",
   "metadata": {},
   "outputs": [],
   "source": [
    "iris = pd.read_csv(\"iris.csv\")"
   ]
  },
  {
   "cell_type": "code",
   "execution_count": 36,
   "id": "fc5a32fa",
   "metadata": {},
   "outputs": [
    {
     "data": {
      "text/html": [
       "<div>\n",
       "<style scoped>\n",
       "    .dataframe tbody tr th:only-of-type {\n",
       "        vertical-align: middle;\n",
       "    }\n",
       "\n",
       "    .dataframe tbody tr th {\n",
       "        vertical-align: top;\n",
       "    }\n",
       "\n",
       "    .dataframe thead th {\n",
       "        text-align: right;\n",
       "    }\n",
       "</style>\n",
       "<table border=\"1\" class=\"dataframe\">\n",
       "  <thead>\n",
       "    <tr style=\"text-align: right;\">\n",
       "      <th></th>\n",
       "      <th>sepal_length</th>\n",
       "      <th>sepal_width</th>\n",
       "      <th>petal_length</th>\n",
       "      <th>petal_width</th>\n",
       "      <th>species</th>\n",
       "    </tr>\n",
       "  </thead>\n",
       "  <tbody>\n",
       "    <tr>\n",
       "      <th>0</th>\n",
       "      <td>5.1</td>\n",
       "      <td>3.5</td>\n",
       "      <td>1.4</td>\n",
       "      <td>0.2</td>\n",
       "      <td>setosa</td>\n",
       "    </tr>\n",
       "    <tr>\n",
       "      <th>1</th>\n",
       "      <td>4.9</td>\n",
       "      <td>3.0</td>\n",
       "      <td>1.4</td>\n",
       "      <td>0.2</td>\n",
       "      <td>setosa</td>\n",
       "    </tr>\n",
       "    <tr>\n",
       "      <th>2</th>\n",
       "      <td>4.7</td>\n",
       "      <td>3.2</td>\n",
       "      <td>1.3</td>\n",
       "      <td>0.2</td>\n",
       "      <td>setosa</td>\n",
       "    </tr>\n",
       "    <tr>\n",
       "      <th>3</th>\n",
       "      <td>4.6</td>\n",
       "      <td>3.1</td>\n",
       "      <td>1.5</td>\n",
       "      <td>0.2</td>\n",
       "      <td>setosa</td>\n",
       "    </tr>\n",
       "    <tr>\n",
       "      <th>4</th>\n",
       "      <td>5.0</td>\n",
       "      <td>3.6</td>\n",
       "      <td>1.4</td>\n",
       "      <td>0.2</td>\n",
       "      <td>setosa</td>\n",
       "    </tr>\n",
       "  </tbody>\n",
       "</table>\n",
       "</div>"
      ],
      "text/plain": [
       "   sepal_length  sepal_width  petal_length  petal_width species\n",
       "0           5.1          3.5           1.4          0.2  setosa\n",
       "1           4.9          3.0           1.4          0.2  setosa\n",
       "2           4.7          3.2           1.3          0.2  setosa\n",
       "3           4.6          3.1           1.5          0.2  setosa\n",
       "4           5.0          3.6           1.4          0.2  setosa"
      ]
     },
     "execution_count": 36,
     "metadata": {},
     "output_type": "execute_result"
    }
   ],
   "source": [
    "iris.head()"
   ]
  },
  {
   "cell_type": "code",
   "execution_count": 37,
   "id": "ca24049c",
   "metadata": {},
   "outputs": [],
   "source": [
    "fruits = [\"Apple\",\"Orange\",\"Mango\",\"Guava\",\"Pineapple\"]\n",
    "quantity = [67,34,100,29,25]"
   ]
  },
  {
   "cell_type": "code",
   "execution_count": 38,
   "id": "bba07943",
   "metadata": {},
   "outputs": [],
   "source": [
    "x = np.arange(1,11)"
   ]
  },
  {
   "cell_type": "code",
   "execution_count": 39,
   "id": "96f069f1",
   "metadata": {},
   "outputs": [],
   "source": [
    "y1 = x * 2"
   ]
  },
  {
   "cell_type": "code",
   "execution_count": 40,
   "id": "3a545e73",
   "metadata": {},
   "outputs": [
    {
     "data": {
      "image/png": "[encoded data removed]",
      "text/plain": [
       "<Figure size 432x288 with 2 Axes>"
      ]
     },
     "metadata": {
      "needs_background": "light"
     },
     "output_type": "display_data"
    }
   ],
   "source": [
    "plt.subplot(1,2,1)\n",
    "plt.pie(quantity,labels=fruits,autopct=\"%0.1f%%\")\n",
    "\n",
    "  \n",
    "plt.subplot(1,2,2) # (1,2,2) means 1 Row, 1 column and This is second Subplot\n",
    "plt.plot(x,y1,color=\"r\",linestyle=\"-.\", linewidth=2)\n",
    "plt.grid(True)\n",
    "plt.show()"
   ]
  },
  {
   "cell_type": "code",
   "execution_count": 57,
   "id": "ab6c3ffe",
   "metadata": {},
   "outputs": [],
   "source": [
    "x = [1,2,3,4,5,6,7,8,9,10]\n",
    "y = [1,1,1,1,1,1,1,1,1,1]"
   ]
  },
  {
   "cell_type": "code",
   "execution_count": 58,
   "id": "26594735",
   "metadata": {},
   "outputs": [
    {
     "data": {
      "image/png": "[encoded data removed]",
      "text/plain": [
       "<Figure size 432x288 with 1 Axes>"
      ]
     },
     "metadata": {
      "needs_background": "light"
     },
     "output_type": "display_data"
    }
   ],
   "source": [
    "plt.scatter(x,y,s=200,c=x)\n",
    "plt.show()"
   ]
  },
  {
   "cell_type": "code",
   "execution_count": null,
   "id": "e27f7d66",
   "metadata": {},
   "outputs": [],
   "source": []
  }
 ],
 "metadata": {
  "kernelspec": {
   "display_name": "Python 3 (ipykernel)",
   "language": "python",
   "name": "python3"
  },
  "language_info": {
   "codemirror_mode": {
    "name": "ipython",
    "version": 3
   },
   "file_extension": ".py",
   "mimetype": "text/x-python",
   "name": "python",
   "nbconvert_exporter": "python",
   "pygments_lexer": "ipython3",
   "version": "3.9.7"
  }
 },
 "nbformat": 4,
 "nbformat_minor": 5
}
